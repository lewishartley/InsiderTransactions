{
 "cells": [
  {
   "cell_type": "code",
   "execution_count": 399,
   "metadata": {},
   "outputs": [],
   "source": [
    "import requests\n",
    "import pandas as pd\n",
    "import numpy as np\n",
    "from datetime import datetime\n",
    "import xml.etree.ElementTree as ET\n",
    "from bs4 import BeautifulSoup\n",
    "import plotly.graph_objs as go\n"
   ]
  },
  {
   "cell_type": "code",
   "execution_count": 539,
   "metadata": {},
   "outputs": [],
   "source": [
    "ticker = 'AAPL'\n",
    "\n",
    "headers = {\n",
    "    'User-Agent': 'LewisHartley/1.0 (lewisdhartley@icloud.com)'\n",
    "}\n",
    "\n",
    "cik_mapping_url = 'https://www.sec.gov/files/company_tickers.json'\n",
    "\n",
    "start_date = datetime(2024, 1, 1)\n",
    "end_date = datetime(2024, 3, 1)"
   ]
  },
  {
   "cell_type": "code",
   "execution_count": 540,
   "metadata": {},
   "outputs": [],
   "source": [
    "# Function to get CIK for a given ticker\n",
    "\n",
    "def get_cik_for_ticker(ticker):\n",
    "    try:\n",
    "        \n",
    "        response = requests.get(cik_mapping_url, headers=headers)\n",
    "        response.raise_for_status()\n",
    "        data = response.json()\n",
    "        \n",
    "        for entry in data.values():\n",
    "            if entry['ticker'].upper() == ticker.upper():\n",
    "                return entry['cik_str']\n",
    "                \n",
    "        return None\n",
    "    except requests.exceptions.RequestException as e:\n",
    "        print(f\"An error occurred: {e}\")\n",
    "        return None"
   ]
  },
  {
   "cell_type": "code",
   "execution_count": 541,
   "metadata": {},
   "outputs": [],
   "source": [
    "#Function to check whether a cik is valid\n",
    "\n",
    "def is_valid_cik(cik):\n",
    "    response = requests.get(f'https://data.sec.gov/submissions/CIK{cik}.json', headers=headers)\n",
    "    \n",
    "    if response.status_code == 200:\n",
    "        data = response.json()\n",
    "        if ticker in data['tickers']:\n",
    "            return True\n",
    "        else:\n",
    "            return False\n",
    "    else:\n",
    "        return False"
   ]
  },
  {
   "cell_type": "code",
   "execution_count": 542,
   "metadata": {},
   "outputs": [],
   "source": [
    "#Function that extracts filings from sec for a given cik\n",
    "\n",
    "def fetch_filings(cik):\n",
    "    try:\n",
    "        # Make the request to get the filings data\n",
    "        response = requests.get(f'https://data.sec.gov/submissions/CIK{cik}.json', headers=headers)\n",
    "        response.raise_for_status()\n",
    "        return response.json()\n",
    "    except requests.exceptions.RequestException as e:\n",
    "        print(f\"An error occurred: {e}\")\n",
    "        return None  "
   ]
  },
  {
   "cell_type": "code",
   "execution_count": 543,
   "metadata": {},
   "outputs": [],
   "source": [
    "#Function that filters extracted filings for form 4s\n",
    "\n",
    "def filter_form4_filings(filings, start_date, end_date):\n",
    "    form4_filings = []\n",
    "    for i in range(len(filings['form'])):\n",
    "        if filings['form'][i] == \"4\":\n",
    "            filing_date = datetime.strptime(filings['filingDate'][i], '%Y-%m-%d')\n",
    "            if start_date <= filing_date <= end_date:\n",
    "                form4_filings.append({\n",
    "                    \"accessionNumber\": filings['accessionNumber'][i],\n",
    "                    \"filingDate\": filings['filingDate'][i],\n",
    "                    \"primaryDocument\": filings['primaryDocument'][i],\n",
    "                    \"primaryDocDescription\": filings['primaryDocDescription'][i]\n",
    "                })\n",
    "    return form4_filings"
   ]
  },
  {
   "cell_type": "code",
   "execution_count": 544,
   "metadata": {},
   "outputs": [],
   "source": [
    "# Function to fetch a filing from their url and parse HTML\n",
    "\n",
    "def fetch_and_parse_html(document_url):\n",
    "    response = requests.get(document_url, headers=headers)\n",
    "    response.raise_for_status()\n",
    "    return BeautifulSoup(response.content, 'html.parser')"
   ]
  },
  {
   "cell_type": "code",
   "execution_count": 545,
   "metadata": {},
   "outputs": [],
   "source": [
    "# Function to extract relevant data from a filing's html\n",
    "\n",
    "def extract_form4_data(soup):\n",
    "    datalist = []\n",
    "    \n",
    "    non_derivative_table = soup.find_all('table')[13]\n",
    "    non_derivative_rows = non_derivative_table.find_all('tr')\n",
    "    reporting_owner = soup.find_all('table')[5]\n",
    "    if reporting_owner:\n",
    "        findtr = reporting_owner.find('tr')\n",
    "        findtd = findtr.find('td')\n",
    "        repperson = findtd.find('a').get_text(strip=True)\n",
    "\n",
    "    if non_derivative_rows:\n",
    "        for row in non_derivative_rows[3:]:\n",
    "            data = {}\n",
    "            findtd = row.find_all('td')\n",
    "            data['Reporting Person'] = repperson \n",
    "            data['Transaction Date'] = findtd[1].get_text(strip=True)\n",
    "            data['Transaction Code'] = findtd[3].get_text(strip=True)\n",
    "            data['Transaction Amount'] = findtd[5].get_text(strip=True)\n",
    "            data['Transaction Price'] = findtd[7].get_text(strip=True)\n",
    "            datalist.append(data)\n",
    "    \n",
    "    return datalist"
   ]
  },
  {
   "cell_type": "code",
   "execution_count": 546,
   "metadata": {},
   "outputs": [],
   "source": [
    "cik = str(get_cik_for_ticker(ticker))"
   ]
  },
  {
   "cell_type": "code",
   "execution_count": 547,
   "metadata": {},
   "outputs": [
    {
     "data": {
      "text/plain": [
       "False"
      ]
     },
     "execution_count": 547,
     "metadata": {},
     "output_type": "execute_result"
    }
   ],
   "source": [
    "is_valid_cik(cik)"
   ]
  },
  {
   "cell_type": "code",
   "execution_count": 548,
   "metadata": {},
   "outputs": [],
   "source": [
    "if is_valid_cik(cik):\n",
    "    cik=cik\n",
    "elif is_valid_cik('0' + cik):\n",
    "    cik = '0'+cik\n",
    "elif is_valid_cik('00' + cik):\n",
    "    cik = '00'+cik\n",
    "elif is_valid_cik('000' + cik):\n",
    "    cik = '000'+cik\n",
    "elif is_valid_cik('0000' + cik):\n",
    "    cik = '0000'+cik\n"
   ]
  },
  {
   "cell_type": "code",
   "execution_count": 549,
   "metadata": {},
   "outputs": [
    {
     "name": "stdout",
     "output_type": "stream",
     "text": [
      "0000320193\n"
     ]
    },
    {
     "data": {
      "text/plain": [
       "True"
      ]
     },
     "execution_count": 549,
     "metadata": {},
     "output_type": "execute_result"
    }
   ],
   "source": [
    "print(cik)\n",
    "is_valid_cik(cik)"
   ]
  },
  {
   "cell_type": "code",
   "execution_count": 550,
   "metadata": {},
   "outputs": [],
   "source": [
    "\n",
    "\n",
    "# Fetch the filings data\n",
    "filings_data = fetch_filings(cik)\n",
    "# Check if filings data is fetched successfully\n",
    "if filings_data:\n",
    "    # Filter the Form 4 filings within the specified date range\n",
    "    recent_filings = filings_data.get('filings', {}).get('recent', {})\n",
    "    form4_filings = filter_form4_filings(recent_filings, start_date, end_date)\n",
    "    if form4_filings:\n",
    "        for filing in form4_filings:\n",
    "            filing['form4url'] = f\"https://www.sec.gov/Archives/edgar/data/{cik}/{filing['accessionNumber'].replace('-', '')}/{filing['primaryDocument']}\"\n",
    "    else:\n",
    "        print(\"No Form 4 filings found within the specified date range.\")\n",
    "else:\n",
    "    print(\"Failed to fetch filings data.\")"
   ]
  },
  {
   "cell_type": "code",
   "execution_count": 551,
   "metadata": {},
   "outputs": [],
   "source": [
    "filings_df = pd.DataFrame(form4_filings)\n",
    "filings_df = filings_df[filings_df['primaryDocDescription'] == 'FORM 4'].reset_index(drop=True)"
   ]
  },
  {
   "cell_type": "code",
   "execution_count": 554,
   "metadata": {},
   "outputs": [
    {
     "data": {
      "text/html": [
       "<div>\n",
       "<style scoped>\n",
       "    .dataframe tbody tr th:only-of-type {\n",
       "        vertical-align: middle;\n",
       "    }\n",
       "\n",
       "    .dataframe tbody tr th {\n",
       "        vertical-align: top;\n",
       "    }\n",
       "\n",
       "    .dataframe thead th {\n",
       "        text-align: right;\n",
       "    }\n",
       "</style>\n",
       "<table border=\"1\" class=\"dataframe\">\n",
       "  <thead>\n",
       "    <tr style=\"text-align: right;\">\n",
       "      <th></th>\n",
       "      <th>Reporting Person</th>\n",
       "      <th>Transaction Date</th>\n",
       "      <th>Transaction Code</th>\n",
       "      <th>Transaction Amount</th>\n",
       "      <th>Transaction Price</th>\n",
       "    </tr>\n",
       "  </thead>\n",
       "  <tbody>\n",
       "    <tr>\n",
       "      <th>0</th>\n",
       "      <td>LEVINSON ARTHUR D</td>\n",
       "      <td>02/29/2024</td>\n",
       "      <td>S</td>\n",
       "      <td>100,000</td>\n",
       "      <td>$180.94(1)</td>\n",
       "    </tr>\n",
       "    <tr>\n",
       "      <th>1</th>\n",
       "      <td>LEVINSON ARTHUR D</td>\n",
       "      <td></td>\n",
       "      <td></td>\n",
       "      <td></td>\n",
       "      <td></td>\n",
       "    </tr>\n",
       "    <tr>\n",
       "      <th>2</th>\n",
       "      <td>WAGNER SUSAN</td>\n",
       "      <td>02/01/2024</td>\n",
       "      <td>M</td>\n",
       "      <td>1,852</td>\n",
       "      <td>(1)</td>\n",
       "    </tr>\n",
       "    <tr>\n",
       "      <th>3</th>\n",
       "      <td>WAGNER SUSAN</td>\n",
       "      <td></td>\n",
       "      <td></td>\n",
       "      <td></td>\n",
       "      <td></td>\n",
       "    </tr>\n",
       "    <tr>\n",
       "      <th>4</th>\n",
       "      <td>WAGNER SUSAN</td>\n",
       "      <td></td>\n",
       "      <td></td>\n",
       "      <td></td>\n",
       "      <td></td>\n",
       "    </tr>\n",
       "    <tr>\n",
       "      <th>5</th>\n",
       "      <td>SUGAR RONALD D</td>\n",
       "      <td>02/01/2024</td>\n",
       "      <td>M</td>\n",
       "      <td>1,852</td>\n",
       "      <td>(1)</td>\n",
       "    </tr>\n",
       "    <tr>\n",
       "      <th>6</th>\n",
       "      <td>LOZANO MONICA C</td>\n",
       "      <td>02/01/2024</td>\n",
       "      <td>M</td>\n",
       "      <td>1,852</td>\n",
       "      <td>(1)</td>\n",
       "    </tr>\n",
       "    <tr>\n",
       "      <th>7</th>\n",
       "      <td>LEVINSON ARTHUR D</td>\n",
       "      <td>02/01/2024</td>\n",
       "      <td>M</td>\n",
       "      <td>1,852</td>\n",
       "      <td>(1)</td>\n",
       "    </tr>\n",
       "    <tr>\n",
       "      <th>8</th>\n",
       "      <td>LEVINSON ARTHUR D</td>\n",
       "      <td></td>\n",
       "      <td></td>\n",
       "      <td></td>\n",
       "      <td></td>\n",
       "    </tr>\n",
       "    <tr>\n",
       "      <th>9</th>\n",
       "      <td>JUNG ANDREA</td>\n",
       "      <td>02/01/2024</td>\n",
       "      <td>M</td>\n",
       "      <td>1,852</td>\n",
       "      <td>(1)</td>\n",
       "    </tr>\n",
       "    <tr>\n",
       "      <th>10</th>\n",
       "      <td>Gorsky Alex</td>\n",
       "      <td>02/01/2024</td>\n",
       "      <td>M</td>\n",
       "      <td>1,852</td>\n",
       "      <td>(1)</td>\n",
       "    </tr>\n",
       "    <tr>\n",
       "      <th>11</th>\n",
       "      <td>GORE ALBERT JR</td>\n",
       "      <td>02/01/2024</td>\n",
       "      <td>M</td>\n",
       "      <td>1,852</td>\n",
       "      <td>(1)</td>\n",
       "    </tr>\n",
       "    <tr>\n",
       "      <th>12</th>\n",
       "      <td>BELL JAMES A</td>\n",
       "      <td>02/01/2024</td>\n",
       "      <td>M</td>\n",
       "      <td>1,852</td>\n",
       "      <td>(1)</td>\n",
       "    </tr>\n",
       "  </tbody>\n",
       "</table>\n",
       "</div>"
      ],
      "text/plain": [
       "     Reporting Person Transaction Date Transaction Code Transaction Amount  \\\n",
       "0   LEVINSON ARTHUR D       02/29/2024                S            100,000   \n",
       "1   LEVINSON ARTHUR D                                                        \n",
       "2        WAGNER SUSAN       02/01/2024                M              1,852   \n",
       "3        WAGNER SUSAN                                                        \n",
       "4        WAGNER SUSAN                                                        \n",
       "5      SUGAR RONALD D       02/01/2024                M              1,852   \n",
       "6     LOZANO MONICA C       02/01/2024                M              1,852   \n",
       "7   LEVINSON ARTHUR D       02/01/2024                M              1,852   \n",
       "8   LEVINSON ARTHUR D                                                        \n",
       "9         JUNG ANDREA       02/01/2024                M              1,852   \n",
       "10        Gorsky Alex       02/01/2024                M              1,852   \n",
       "11     GORE ALBERT JR       02/01/2024                M              1,852   \n",
       "12       BELL JAMES A       02/01/2024                M              1,852   \n",
       "\n",
       "   Transaction Price  \n",
       "0         $180.94(1)  \n",
       "1                     \n",
       "2                (1)  \n",
       "3                     \n",
       "4                     \n",
       "5                (1)  \n",
       "6                (1)  \n",
       "7                (1)  \n",
       "8                     \n",
       "9                (1)  \n",
       "10               (1)  \n",
       "11               (1)  \n",
       "12               (1)  "
      ]
     },
     "execution_count": 554,
     "metadata": {},
     "output_type": "execute_result"
    }
   ],
   "source": [
    "extracted_data = []\n",
    "for document_url in filings_df['form4url']:\n",
    "    try:\n",
    "        soup = fetch_and_parse_html(document_url)\n",
    "        filing_data = extract_form4_data(soup)\n",
    "        extracted_data = extracted_data + filing_data\n",
    "    except Exception as e:\n",
    "        print(f\"Error processing {document_url}: {e}\")\n",
    "\n",
    "extracted_data = pd.DataFrame(extracted_data)\n",
    "\n",
    "extracted_data"
   ]
  },
  {
   "cell_type": "code",
   "execution_count": 555,
   "metadata": {},
   "outputs": [
    {
     "data": {
      "text/html": [
       "<div>\n",
       "<style scoped>\n",
       "    .dataframe tbody tr th:only-of-type {\n",
       "        vertical-align: middle;\n",
       "    }\n",
       "\n",
       "    .dataframe tbody tr th {\n",
       "        vertical-align: top;\n",
       "    }\n",
       "\n",
       "    .dataframe thead th {\n",
       "        text-align: right;\n",
       "    }\n",
       "</style>\n",
       "<table border=\"1\" class=\"dataframe\">\n",
       "  <thead>\n",
       "    <tr style=\"text-align: right;\">\n",
       "      <th></th>\n",
       "      <th>Reporting Person</th>\n",
       "      <th>Transaction Date</th>\n",
       "      <th>Transaction Code</th>\n",
       "      <th>Transaction Amount</th>\n",
       "      <th>Transaction Price</th>\n",
       "    </tr>\n",
       "  </thead>\n",
       "  <tbody>\n",
       "    <tr>\n",
       "      <th>0</th>\n",
       "      <td>LEVINSON ARTHUR D</td>\n",
       "      <td>02/29/2024</td>\n",
       "      <td>S</td>\n",
       "      <td>100,000</td>\n",
       "      <td>$180.94(1)</td>\n",
       "    </tr>\n",
       "    <tr>\n",
       "      <th>1</th>\n",
       "      <td>WAGNER SUSAN</td>\n",
       "      <td>02/01/2024</td>\n",
       "      <td>M</td>\n",
       "      <td>1,852</td>\n",
       "      <td>(1)</td>\n",
       "    </tr>\n",
       "    <tr>\n",
       "      <th>2</th>\n",
       "      <td>SUGAR RONALD D</td>\n",
       "      <td>02/01/2024</td>\n",
       "      <td>M</td>\n",
       "      <td>1,852</td>\n",
       "      <td>(1)</td>\n",
       "    </tr>\n",
       "    <tr>\n",
       "      <th>3</th>\n",
       "      <td>LOZANO MONICA C</td>\n",
       "      <td>02/01/2024</td>\n",
       "      <td>M</td>\n",
       "      <td>1,852</td>\n",
       "      <td>(1)</td>\n",
       "    </tr>\n",
       "    <tr>\n",
       "      <th>4</th>\n",
       "      <td>LEVINSON ARTHUR D</td>\n",
       "      <td>02/01/2024</td>\n",
       "      <td>M</td>\n",
       "      <td>1,852</td>\n",
       "      <td>(1)</td>\n",
       "    </tr>\n",
       "    <tr>\n",
       "      <th>5</th>\n",
       "      <td>JUNG ANDREA</td>\n",
       "      <td>02/01/2024</td>\n",
       "      <td>M</td>\n",
       "      <td>1,852</td>\n",
       "      <td>(1)</td>\n",
       "    </tr>\n",
       "    <tr>\n",
       "      <th>6</th>\n",
       "      <td>Gorsky Alex</td>\n",
       "      <td>02/01/2024</td>\n",
       "      <td>M</td>\n",
       "      <td>1,852</td>\n",
       "      <td>(1)</td>\n",
       "    </tr>\n",
       "    <tr>\n",
       "      <th>7</th>\n",
       "      <td>GORE ALBERT JR</td>\n",
       "      <td>02/01/2024</td>\n",
       "      <td>M</td>\n",
       "      <td>1,852</td>\n",
       "      <td>(1)</td>\n",
       "    </tr>\n",
       "    <tr>\n",
       "      <th>8</th>\n",
       "      <td>BELL JAMES A</td>\n",
       "      <td>02/01/2024</td>\n",
       "      <td>M</td>\n",
       "      <td>1,852</td>\n",
       "      <td>(1)</td>\n",
       "    </tr>\n",
       "  </tbody>\n",
       "</table>\n",
       "</div>"
      ],
      "text/plain": [
       "    Reporting Person Transaction Date Transaction Code Transaction Amount  \\\n",
       "0  LEVINSON ARTHUR D       02/29/2024                S            100,000   \n",
       "1       WAGNER SUSAN       02/01/2024                M              1,852   \n",
       "2     SUGAR RONALD D       02/01/2024                M              1,852   \n",
       "3    LOZANO MONICA C       02/01/2024                M              1,852   \n",
       "4  LEVINSON ARTHUR D       02/01/2024                M              1,852   \n",
       "5        JUNG ANDREA       02/01/2024                M              1,852   \n",
       "6        Gorsky Alex       02/01/2024                M              1,852   \n",
       "7     GORE ALBERT JR       02/01/2024                M              1,852   \n",
       "8       BELL JAMES A       02/01/2024                M              1,852   \n",
       "\n",
       "  Transaction Price  \n",
       "0        $180.94(1)  \n",
       "1               (1)  \n",
       "2               (1)  \n",
       "3               (1)  \n",
       "4               (1)  \n",
       "5               (1)  \n",
       "6               (1)  \n",
       "7               (1)  \n",
       "8               (1)  "
      ]
     },
     "execution_count": 555,
     "metadata": {},
     "output_type": "execute_result"
    }
   ],
   "source": [
    "extracted_data.replace('', np.nan, inplace=True)\n",
    "extracted_data.dropna(inplace = True)\n",
    "extracted_data.reset_index(drop=True, inplace=True)\n",
    "extracted_data"
   ]
  },
  {
   "cell_type": "code",
   "execution_count": 556,
   "metadata": {},
   "outputs": [
    {
     "name": "stderr",
     "output_type": "stream",
     "text": [
      "C:\\Users\\lewis\\AppData\\Local\\Temp\\ipykernel_19576\\3289246777.py:2: SettingWithCopyWarning:\n",
      "\n",
      "\n",
      "A value is trying to be set on a copy of a slice from a DataFrame.\n",
      "Try using .loc[row_indexer,col_indexer] = value instead\n",
      "\n",
      "See the caveats in the documentation: https://pandas.pydata.org/pandas-docs/stable/user_guide/indexing.html#returning-a-view-versus-a-copy\n",
      "\n"
     ]
    },
    {
     "data": {
      "text/html": [
       "<div>\n",
       "<style scoped>\n",
       "    .dataframe tbody tr th:only-of-type {\n",
       "        vertical-align: middle;\n",
       "    }\n",
       "\n",
       "    .dataframe tbody tr th {\n",
       "        vertical-align: top;\n",
       "    }\n",
       "\n",
       "    .dataframe thead th {\n",
       "        text-align: right;\n",
       "    }\n",
       "</style>\n",
       "<table border=\"1\" class=\"dataframe\">\n",
       "  <thead>\n",
       "    <tr style=\"text-align: right;\">\n",
       "      <th></th>\n",
       "      <th>Reporting Person</th>\n",
       "      <th>Transaction Date</th>\n",
       "      <th>Transaction Code</th>\n",
       "      <th>Transaction Amount</th>\n",
       "      <th>Transaction Price</th>\n",
       "      <th>Transaction Type</th>\n",
       "    </tr>\n",
       "  </thead>\n",
       "  <tbody>\n",
       "    <tr>\n",
       "      <th>0</th>\n",
       "      <td>LEVINSON ARTHUR D</td>\n",
       "      <td>02/29/2024</td>\n",
       "      <td>S</td>\n",
       "      <td>100,000</td>\n",
       "      <td>$180.94(1)</td>\n",
       "      <td>Sell</td>\n",
       "    </tr>\n",
       "  </tbody>\n",
       "</table>\n",
       "</div>"
      ],
      "text/plain": [
       "    Reporting Person Transaction Date Transaction Code Transaction Amount  \\\n",
       "0  LEVINSON ARTHUR D       02/29/2024                S            100,000   \n",
       "\n",
       "  Transaction Price Transaction Type  \n",
       "0        $180.94(1)             Sell  "
      ]
     },
     "execution_count": 556,
     "metadata": {},
     "output_type": "execute_result"
    }
   ],
   "source": [
    "sells = extracted_data[extracted_data['Transaction Code'].str.contains('S', case=False, na=False)]\n",
    "sells['Transaction Type'] = \"Sell\"\n",
    "sells"
   ]
  },
  {
   "cell_type": "code",
   "execution_count": 534,
   "metadata": {},
   "outputs": [
    {
     "data": {
      "text/html": [
       "<div>\n",
       "<style scoped>\n",
       "    .dataframe tbody tr th:only-of-type {\n",
       "        vertical-align: middle;\n",
       "    }\n",
       "\n",
       "    .dataframe tbody tr th {\n",
       "        vertical-align: top;\n",
       "    }\n",
       "\n",
       "    .dataframe thead th {\n",
       "        text-align: right;\n",
       "    }\n",
       "</style>\n",
       "<table border=\"1\" class=\"dataframe\">\n",
       "  <thead>\n",
       "    <tr style=\"text-align: right;\">\n",
       "      <th></th>\n",
       "      <th>Reporting Person</th>\n",
       "      <th>Transaction Date</th>\n",
       "      <th>Transaction Code</th>\n",
       "      <th>Transaction Amount</th>\n",
       "      <th>Transaction Price</th>\n",
       "      <th>Transaction Type</th>\n",
       "    </tr>\n",
       "  </thead>\n",
       "  <tbody>\n",
       "  </tbody>\n",
       "</table>\n",
       "</div>"
      ],
      "text/plain": [
       "Empty DataFrame\n",
       "Columns: [Reporting Person, Transaction Date, Transaction Code, Transaction Amount, Transaction Price, Transaction Type]\n",
       "Index: []"
      ]
     },
     "execution_count": 534,
     "metadata": {},
     "output_type": "execute_result"
    }
   ],
   "source": [
    "buys = extracted_data[extracted_data['Transaction Code'].str.contains('P', case=False, na=False)]\n",
    "buys['Transaction Type'] = \"Buy\"\n",
    "buys"
   ]
  },
  {
   "cell_type": "code",
   "execution_count": 535,
   "metadata": {},
   "outputs": [
    {
     "data": {
      "text/html": [
       "<div>\n",
       "<style scoped>\n",
       "    .dataframe tbody tr th:only-of-type {\n",
       "        vertical-align: middle;\n",
       "    }\n",
       "\n",
       "    .dataframe tbody tr th {\n",
       "        vertical-align: top;\n",
       "    }\n",
       "\n",
       "    .dataframe thead th {\n",
       "        text-align: right;\n",
       "    }\n",
       "</style>\n",
       "<table border=\"1\" class=\"dataframe\">\n",
       "  <thead>\n",
       "    <tr style=\"text-align: right;\">\n",
       "      <th></th>\n",
       "      <th>Reporting Person</th>\n",
       "      <th>Transaction Date</th>\n",
       "      <th>Transaction Code</th>\n",
       "      <th>Transaction Amount</th>\n",
       "      <th>Transaction Price</th>\n",
       "      <th>Transaction Type</th>\n",
       "    </tr>\n",
       "  </thead>\n",
       "  <tbody>\n",
       "    <tr>\n",
       "      <th>0</th>\n",
       "      <td>LEVINSON ARTHUR D</td>\n",
       "      <td>2024-02-29</td>\n",
       "      <td>S</td>\n",
       "      <td>100000</td>\n",
       "      <td>180.940</td>\n",
       "      <td>Sell</td>\n",
       "    </tr>\n",
       "    <tr>\n",
       "      <th>1</th>\n",
       "      <td>COOK TIMOTHY D</td>\n",
       "      <td>2024-04-01</td>\n",
       "      <td>S</td>\n",
       "      <td>99183</td>\n",
       "      <td>170.030</td>\n",
       "      <td>Sell</td>\n",
       "    </tr>\n",
       "    <tr>\n",
       "      <th>2</th>\n",
       "      <td>O'BRIEN DEIRDRE</td>\n",
       "      <td>2024-04-02</td>\n",
       "      <td>S</td>\n",
       "      <td>54732</td>\n",
       "      <td>168.910</td>\n",
       "      <td>Sell</td>\n",
       "    </tr>\n",
       "    <tr>\n",
       "      <th>3</th>\n",
       "      <td>COOK TIMOTHY D</td>\n",
       "      <td>2024-04-02</td>\n",
       "      <td>S</td>\n",
       "      <td>97062</td>\n",
       "      <td>168.620</td>\n",
       "      <td>Sell</td>\n",
       "    </tr>\n",
       "    <tr>\n",
       "      <th>4</th>\n",
       "      <td>COOK TIMOTHY D</td>\n",
       "      <td>2024-04-02</td>\n",
       "      <td>S</td>\n",
       "      <td>165</td>\n",
       "      <td>169.300</td>\n",
       "      <td>Sell</td>\n",
       "    </tr>\n",
       "    <tr>\n",
       "      <th>5</th>\n",
       "      <td>Adams Katherine L.</td>\n",
       "      <td>2024-04-02</td>\n",
       "      <td>S</td>\n",
       "      <td>54732</td>\n",
       "      <td>168.900</td>\n",
       "      <td>Sell</td>\n",
       "    </tr>\n",
       "    <tr>\n",
       "      <th>6</th>\n",
       "      <td>WILLIAMS JEFFREY E</td>\n",
       "      <td>2024-04-11</td>\n",
       "      <td>S</td>\n",
       "      <td>59162</td>\n",
       "      <td>172.220</td>\n",
       "      <td>Sell</td>\n",
       "    </tr>\n",
       "    <tr>\n",
       "      <th>7</th>\n",
       "      <td>Maestri Luca</td>\n",
       "      <td>2024-04-11</td>\n",
       "      <td>S</td>\n",
       "      <td>12700</td>\n",
       "      <td>173.190</td>\n",
       "      <td>Sell</td>\n",
       "    </tr>\n",
       "    <tr>\n",
       "      <th>8</th>\n",
       "      <td>Maestri Luca</td>\n",
       "      <td>2024-04-11</td>\n",
       "      <td>S</td>\n",
       "      <td>27600</td>\n",
       "      <td>174.120</td>\n",
       "      <td>Sell</td>\n",
       "    </tr>\n",
       "    <tr>\n",
       "      <th>9</th>\n",
       "      <td>Maestri Luca</td>\n",
       "      <td>2024-04-11</td>\n",
       "      <td>S</td>\n",
       "      <td>12894</td>\n",
       "      <td>175.020</td>\n",
       "      <td>Sell</td>\n",
       "    </tr>\n",
       "    <tr>\n",
       "      <th>10</th>\n",
       "      <td>KONDO CHRIS</td>\n",
       "      <td>2024-05-15</td>\n",
       "      <td>S</td>\n",
       "      <td>4999</td>\n",
       "      <td>190.395</td>\n",
       "      <td>Sell</td>\n",
       "    </tr>\n",
       "    <tr>\n",
       "      <th>11</th>\n",
       "      <td>LEVINSON ARTHUR D</td>\n",
       "      <td>2024-05-30</td>\n",
       "      <td>S</td>\n",
       "      <td>75000</td>\n",
       "      <td>191.580</td>\n",
       "      <td>Sell</td>\n",
       "    </tr>\n",
       "  </tbody>\n",
       "</table>\n",
       "</div>"
      ],
      "text/plain": [
       "      Reporting Person Transaction Date Transaction Code  Transaction Amount  \\\n",
       "0    LEVINSON ARTHUR D       2024-02-29                S              100000   \n",
       "1       COOK TIMOTHY D       2024-04-01                S               99183   \n",
       "2      O'BRIEN DEIRDRE       2024-04-02                S               54732   \n",
       "3       COOK TIMOTHY D       2024-04-02                S               97062   \n",
       "4       COOK TIMOTHY D       2024-04-02                S                 165   \n",
       "5   Adams Katherine L.       2024-04-02                S               54732   \n",
       "6   WILLIAMS JEFFREY E       2024-04-11                S               59162   \n",
       "7         Maestri Luca       2024-04-11                S               12700   \n",
       "8         Maestri Luca       2024-04-11                S               27600   \n",
       "9         Maestri Luca       2024-04-11                S               12894   \n",
       "10         KONDO CHRIS       2024-05-15                S                4999   \n",
       "11   LEVINSON ARTHUR D       2024-05-30                S               75000   \n",
       "\n",
       "    Transaction Price Transaction Type  \n",
       "0             180.940             Sell  \n",
       "1             170.030             Sell  \n",
       "2             168.910             Sell  \n",
       "3             168.620             Sell  \n",
       "4             169.300             Sell  \n",
       "5             168.900             Sell  \n",
       "6             172.220             Sell  \n",
       "7             173.190             Sell  \n",
       "8             174.120             Sell  \n",
       "9             175.020             Sell  \n",
       "10            190.395             Sell  \n",
       "11            191.580             Sell  "
      ]
     },
     "execution_count": 535,
     "metadata": {},
     "output_type": "execute_result"
    }
   ],
   "source": [
    "transactions = pd.concat([buys, sells], axis=0).reset_index(drop=True)\n",
    "\n",
    "transactions['Transaction Amount'] = transactions['Transaction Amount'].str.replace(',', '')\n",
    "transactions['Transaction Amount'] = pd.to_numeric(transactions['Transaction Amount'])\n",
    "transactions['Transaction Price'] = transactions['Transaction Price'].str.replace('$','', regex=True)\n",
    "transactions['Transaction Price'] = transactions['Transaction Price'].str.replace(r'\\([^)]*\\)', '', regex=True)\n",
    "transactions['Transaction Price'] = pd.to_numeric(transactions['Transaction Price'])\n",
    "transactions['Transaction Date'] = pd.to_datetime(transactions['Transaction Date'])\n",
    "transactions.sort_values(by='Transaction Date', ascending = True, inplace=True)\n",
    "transactions.reset_index(drop=True, inplace=True)\n",
    "transactions"
   ]
  },
  {
   "cell_type": "code",
   "execution_count": 536,
   "metadata": {},
   "outputs": [
    {
     "data": {
      "text/html": [
       "<div>\n",
       "<style scoped>\n",
       "    .dataframe tbody tr th:only-of-type {\n",
       "        vertical-align: middle;\n",
       "    }\n",
       "\n",
       "    .dataframe tbody tr th {\n",
       "        vertical-align: top;\n",
       "    }\n",
       "\n",
       "    .dataframe thead th {\n",
       "        text-align: right;\n",
       "    }\n",
       "</style>\n",
       "<table border=\"1\" class=\"dataframe\">\n",
       "  <thead>\n",
       "    <tr style=\"text-align: right;\">\n",
       "      <th></th>\n",
       "      <th>Reporting Person</th>\n",
       "      <th>Transaction Date</th>\n",
       "      <th>Transaction Code</th>\n",
       "      <th>Transaction Amount</th>\n",
       "      <th>Transaction Price</th>\n",
       "      <th>Transaction Type</th>\n",
       "      <th>Transaction Value</th>\n",
       "    </tr>\n",
       "  </thead>\n",
       "  <tbody>\n",
       "    <tr>\n",
       "      <th>0</th>\n",
       "      <td>LEVINSON ARTHUR D</td>\n",
       "      <td>2024-02-29</td>\n",
       "      <td>S</td>\n",
       "      <td>100000</td>\n",
       "      <td>180.940</td>\n",
       "      <td>Sell</td>\n",
       "      <td>-1.809400e+07</td>\n",
       "    </tr>\n",
       "    <tr>\n",
       "      <th>1</th>\n",
       "      <td>COOK TIMOTHY D</td>\n",
       "      <td>2024-04-01</td>\n",
       "      <td>S</td>\n",
       "      <td>99183</td>\n",
       "      <td>170.030</td>\n",
       "      <td>Sell</td>\n",
       "      <td>-1.686409e+07</td>\n",
       "    </tr>\n",
       "    <tr>\n",
       "      <th>2</th>\n",
       "      <td>O'BRIEN DEIRDRE</td>\n",
       "      <td>2024-04-02</td>\n",
       "      <td>S</td>\n",
       "      <td>54732</td>\n",
       "      <td>168.910</td>\n",
       "      <td>Sell</td>\n",
       "      <td>-9.244782e+06</td>\n",
       "    </tr>\n",
       "    <tr>\n",
       "      <th>3</th>\n",
       "      <td>COOK TIMOTHY D</td>\n",
       "      <td>2024-04-02</td>\n",
       "      <td>S</td>\n",
       "      <td>97062</td>\n",
       "      <td>168.620</td>\n",
       "      <td>Sell</td>\n",
       "      <td>-1.636659e+07</td>\n",
       "    </tr>\n",
       "    <tr>\n",
       "      <th>4</th>\n",
       "      <td>COOK TIMOTHY D</td>\n",
       "      <td>2024-04-02</td>\n",
       "      <td>S</td>\n",
       "      <td>165</td>\n",
       "      <td>169.300</td>\n",
       "      <td>Sell</td>\n",
       "      <td>-2.793450e+04</td>\n",
       "    </tr>\n",
       "    <tr>\n",
       "      <th>5</th>\n",
       "      <td>Adams Katherine L.</td>\n",
       "      <td>2024-04-02</td>\n",
       "      <td>S</td>\n",
       "      <td>54732</td>\n",
       "      <td>168.900</td>\n",
       "      <td>Sell</td>\n",
       "      <td>-9.244235e+06</td>\n",
       "    </tr>\n",
       "    <tr>\n",
       "      <th>6</th>\n",
       "      <td>WILLIAMS JEFFREY E</td>\n",
       "      <td>2024-04-11</td>\n",
       "      <td>S</td>\n",
       "      <td>59162</td>\n",
       "      <td>172.220</td>\n",
       "      <td>Sell</td>\n",
       "      <td>-1.018888e+07</td>\n",
       "    </tr>\n",
       "    <tr>\n",
       "      <th>7</th>\n",
       "      <td>Maestri Luca</td>\n",
       "      <td>2024-04-11</td>\n",
       "      <td>S</td>\n",
       "      <td>12700</td>\n",
       "      <td>173.190</td>\n",
       "      <td>Sell</td>\n",
       "      <td>-2.199513e+06</td>\n",
       "    </tr>\n",
       "    <tr>\n",
       "      <th>8</th>\n",
       "      <td>Maestri Luca</td>\n",
       "      <td>2024-04-11</td>\n",
       "      <td>S</td>\n",
       "      <td>27600</td>\n",
       "      <td>174.120</td>\n",
       "      <td>Sell</td>\n",
       "      <td>-4.805712e+06</td>\n",
       "    </tr>\n",
       "    <tr>\n",
       "      <th>9</th>\n",
       "      <td>Maestri Luca</td>\n",
       "      <td>2024-04-11</td>\n",
       "      <td>S</td>\n",
       "      <td>12894</td>\n",
       "      <td>175.020</td>\n",
       "      <td>Sell</td>\n",
       "      <td>-2.256708e+06</td>\n",
       "    </tr>\n",
       "    <tr>\n",
       "      <th>10</th>\n",
       "      <td>KONDO CHRIS</td>\n",
       "      <td>2024-05-15</td>\n",
       "      <td>S</td>\n",
       "      <td>4999</td>\n",
       "      <td>190.395</td>\n",
       "      <td>Sell</td>\n",
       "      <td>-9.517846e+05</td>\n",
       "    </tr>\n",
       "    <tr>\n",
       "      <th>11</th>\n",
       "      <td>LEVINSON ARTHUR D</td>\n",
       "      <td>2024-05-30</td>\n",
       "      <td>S</td>\n",
       "      <td>75000</td>\n",
       "      <td>191.580</td>\n",
       "      <td>Sell</td>\n",
       "      <td>-1.436850e+07</td>\n",
       "    </tr>\n",
       "  </tbody>\n",
       "</table>\n",
       "</div>"
      ],
      "text/plain": [
       "      Reporting Person Transaction Date Transaction Code  Transaction Amount  \\\n",
       "0    LEVINSON ARTHUR D       2024-02-29                S              100000   \n",
       "1       COOK TIMOTHY D       2024-04-01                S               99183   \n",
       "2      O'BRIEN DEIRDRE       2024-04-02                S               54732   \n",
       "3       COOK TIMOTHY D       2024-04-02                S               97062   \n",
       "4       COOK TIMOTHY D       2024-04-02                S                 165   \n",
       "5   Adams Katherine L.       2024-04-02                S               54732   \n",
       "6   WILLIAMS JEFFREY E       2024-04-11                S               59162   \n",
       "7         Maestri Luca       2024-04-11                S               12700   \n",
       "8         Maestri Luca       2024-04-11                S               27600   \n",
       "9         Maestri Luca       2024-04-11                S               12894   \n",
       "10         KONDO CHRIS       2024-05-15                S                4999   \n",
       "11   LEVINSON ARTHUR D       2024-05-30                S               75000   \n",
       "\n",
       "    Transaction Price Transaction Type  Transaction Value  \n",
       "0             180.940             Sell      -1.809400e+07  \n",
       "1             170.030             Sell      -1.686409e+07  \n",
       "2             168.910             Sell      -9.244782e+06  \n",
       "3             168.620             Sell      -1.636659e+07  \n",
       "4             169.300             Sell      -2.793450e+04  \n",
       "5             168.900             Sell      -9.244235e+06  \n",
       "6             172.220             Sell      -1.018888e+07  \n",
       "7             173.190             Sell      -2.199513e+06  \n",
       "8             174.120             Sell      -4.805712e+06  \n",
       "9             175.020             Sell      -2.256708e+06  \n",
       "10            190.395             Sell      -9.517846e+05  \n",
       "11            191.580             Sell      -1.436850e+07  "
      ]
     },
     "execution_count": 536,
     "metadata": {},
     "output_type": "execute_result"
    }
   ],
   "source": [
    "transactions.loc[transactions['Transaction Type'] == 'Buy', 'Transaction Value'] = transactions['Transaction Amount'] * transactions['Transaction Price']\n",
    "transactions.loc[transactions['Transaction Type'] == 'Sell', 'Transaction Value'] = -transactions['Transaction Amount'] * transactions['Transaction Price']\n",
    "\n",
    "transactions\n"
   ]
  },
  {
   "cell_type": "code",
   "execution_count": 537,
   "metadata": {},
   "outputs": [
    {
     "data": {
      "text/html": [
       "<div>\n",
       "<style scoped>\n",
       "    .dataframe tbody tr th:only-of-type {\n",
       "        vertical-align: middle;\n",
       "    }\n",
       "\n",
       "    .dataframe tbody tr th {\n",
       "        vertical-align: top;\n",
       "    }\n",
       "\n",
       "    .dataframe thead th {\n",
       "        text-align: right;\n",
       "    }\n",
       "</style>\n",
       "<table border=\"1\" class=\"dataframe\">\n",
       "  <thead>\n",
       "    <tr style=\"text-align: right;\">\n",
       "      <th></th>\n",
       "      <th>Transaction Date</th>\n",
       "      <th>Transaction Value</th>\n",
       "      <th>Transaction Type</th>\n",
       "      <th>Total Buys</th>\n",
       "      <th>Total Sells</th>\n",
       "      <th>Net Total</th>\n",
       "    </tr>\n",
       "  </thead>\n",
       "  <tbody>\n",
       "    <tr>\n",
       "      <th>0</th>\n",
       "      <td>2024-01-01</td>\n",
       "      <td>0.0</td>\n",
       "      <td></td>\n",
       "      <td>0</td>\n",
       "      <td>0.000000e+00</td>\n",
       "      <td>0.000000e+00</td>\n",
       "    </tr>\n",
       "    <tr>\n",
       "      <th>1</th>\n",
       "      <td>2024-01-02</td>\n",
       "      <td>0.0</td>\n",
       "      <td></td>\n",
       "      <td>0</td>\n",
       "      <td>0.000000e+00</td>\n",
       "      <td>0.000000e+00</td>\n",
       "    </tr>\n",
       "    <tr>\n",
       "      <th>2</th>\n",
       "      <td>2024-01-03</td>\n",
       "      <td>0.0</td>\n",
       "      <td></td>\n",
       "      <td>0</td>\n",
       "      <td>0.000000e+00</td>\n",
       "      <td>0.000000e+00</td>\n",
       "    </tr>\n",
       "    <tr>\n",
       "      <th>3</th>\n",
       "      <td>2024-01-04</td>\n",
       "      <td>0.0</td>\n",
       "      <td></td>\n",
       "      <td>0</td>\n",
       "      <td>0.000000e+00</td>\n",
       "      <td>0.000000e+00</td>\n",
       "    </tr>\n",
       "    <tr>\n",
       "      <th>4</th>\n",
       "      <td>2024-01-05</td>\n",
       "      <td>0.0</td>\n",
       "      <td></td>\n",
       "      <td>0</td>\n",
       "      <td>0.000000e+00</td>\n",
       "      <td>0.000000e+00</td>\n",
       "    </tr>\n",
       "    <tr>\n",
       "      <th>...</th>\n",
       "      <td>...</td>\n",
       "      <td>...</td>\n",
       "      <td>...</td>\n",
       "      <td>...</td>\n",
       "      <td>...</td>\n",
       "      <td>...</td>\n",
       "    </tr>\n",
       "    <tr>\n",
       "      <th>165</th>\n",
       "      <td>2024-06-08</td>\n",
       "      <td>0.0</td>\n",
       "      <td></td>\n",
       "      <td>0</td>\n",
       "      <td>-1.046127e+08</td>\n",
       "      <td>-1.046127e+08</td>\n",
       "    </tr>\n",
       "    <tr>\n",
       "      <th>166</th>\n",
       "      <td>2024-06-09</td>\n",
       "      <td>0.0</td>\n",
       "      <td></td>\n",
       "      <td>0</td>\n",
       "      <td>-1.046127e+08</td>\n",
       "      <td>-1.046127e+08</td>\n",
       "    </tr>\n",
       "    <tr>\n",
       "      <th>167</th>\n",
       "      <td>2024-06-10</td>\n",
       "      <td>0.0</td>\n",
       "      <td></td>\n",
       "      <td>0</td>\n",
       "      <td>-1.046127e+08</td>\n",
       "      <td>-1.046127e+08</td>\n",
       "    </tr>\n",
       "    <tr>\n",
       "      <th>168</th>\n",
       "      <td>2024-06-11</td>\n",
       "      <td>0.0</td>\n",
       "      <td></td>\n",
       "      <td>0</td>\n",
       "      <td>-1.046127e+08</td>\n",
       "      <td>-1.046127e+08</td>\n",
       "    </tr>\n",
       "    <tr>\n",
       "      <th>169</th>\n",
       "      <td>2024-06-12</td>\n",
       "      <td>0.0</td>\n",
       "      <td></td>\n",
       "      <td>0</td>\n",
       "      <td>-1.046127e+08</td>\n",
       "      <td>-1.046127e+08</td>\n",
       "    </tr>\n",
       "  </tbody>\n",
       "</table>\n",
       "<p>170 rows × 6 columns</p>\n",
       "</div>"
      ],
      "text/plain": [
       "    Transaction Date  Transaction Value Transaction Type  Total Buys  \\\n",
       "0         2024-01-01                0.0                            0   \n",
       "1         2024-01-02                0.0                            0   \n",
       "2         2024-01-03                0.0                            0   \n",
       "3         2024-01-04                0.0                            0   \n",
       "4         2024-01-05                0.0                            0   \n",
       "..               ...                ...              ...         ...   \n",
       "165       2024-06-08                0.0                            0   \n",
       "166       2024-06-09                0.0                            0   \n",
       "167       2024-06-10                0.0                            0   \n",
       "168       2024-06-11                0.0                            0   \n",
       "169       2024-06-12                0.0                            0   \n",
       "\n",
       "      Total Sells     Net Total  \n",
       "0    0.000000e+00  0.000000e+00  \n",
       "1    0.000000e+00  0.000000e+00  \n",
       "2    0.000000e+00  0.000000e+00  \n",
       "3    0.000000e+00  0.000000e+00  \n",
       "4    0.000000e+00  0.000000e+00  \n",
       "..            ...           ...  \n",
       "165 -1.046127e+08 -1.046127e+08  \n",
       "166 -1.046127e+08 -1.046127e+08  \n",
       "167 -1.046127e+08 -1.046127e+08  \n",
       "168 -1.046127e+08 -1.046127e+08  \n",
       "169 -1.046127e+08 -1.046127e+08  \n",
       "\n",
       "[170 rows x 6 columns]"
      ]
     },
     "execution_count": 537,
     "metadata": {},
     "output_type": "execute_result"
    }
   ],
   "source": [
    "date_range = pd.date_range(start=start_date, end=end_date, freq='D')\n",
    "\n",
    "dailydata = pd.DataFrame(date_range, columns=['Transaction Date'])\n",
    "\n",
    "dailydata = pd.merge(dailydata, transactions[['Transaction Date', 'Transaction Value', 'Transaction Type']], \n",
    "                    on='Transaction Date', how='left')\n",
    "\n",
    "dailydata['Transaction Value'].fillna(0, inplace=True)\n",
    "dailydata['Transaction Type'].fillna('', inplace=True)\n",
    "\n",
    "dailydata['Total Buys'] = 0\n",
    "\n",
    "cumulative_buys = 0\n",
    "for index, row in dailydata.iterrows():\n",
    "    if row['Transaction Type'] == 'Buy' and row['Transaction Value'] != 0:\n",
    "        cumulative_buys += row['Transaction Value']\n",
    "    dailydata.at[index, 'Total Buys'] = cumulative_buys\n",
    "\n",
    "dailydata['Total Sells'] = 0\n",
    "\n",
    "cumulative_sells = 0\n",
    "for index, row in dailydata.iterrows():\n",
    "    if row['Transaction Type'] == 'Sell' and row['Transaction Value'] != 0:\n",
    "        cumulative_sells += row['Transaction Value']\n",
    "    dailydata.at[index, 'Total Sells'] = cumulative_sells\n",
    "\n",
    "\n",
    "dailydata['Net Total'] = dailydata['Transaction Value'].cumsum()\n",
    "\n",
    "dailydata"
   ]
  },
  {
   "cell_type": "code",
   "execution_count": 538,
   "metadata": {},
   "outputs": [
    {
     "data": {
      "application/vnd.plotly.v1+json": {
       "config": {
        "plotlyServerURL": "https://plot.ly"
       },
       "data": [
        {
         "line": {
          "color": "Blue"
         },
         "mode": "lines",
         "name": "Net Total",
         "showlegend": true,
         "type": "scatter",
         "x": [
          "2024-01-01T00:00:00",
          "2024-01-02T00:00:00",
          "2024-01-03T00:00:00",
          "2024-01-04T00:00:00",
          "2024-01-05T00:00:00",
          "2024-01-06T00:00:00",
          "2024-01-07T00:00:00",
          "2024-01-08T00:00:00",
          "2024-01-09T00:00:00",
          "2024-01-10T00:00:00",
          "2024-01-11T00:00:00",
          "2024-01-12T00:00:00",
          "2024-01-13T00:00:00",
          "2024-01-14T00:00:00",
          "2024-01-15T00:00:00",
          "2024-01-16T00:00:00",
          "2024-01-17T00:00:00",
          "2024-01-18T00:00:00",
          "2024-01-19T00:00:00",
          "2024-01-20T00:00:00",
          "2024-01-21T00:00:00",
          "2024-01-22T00:00:00",
          "2024-01-23T00:00:00",
          "2024-01-24T00:00:00",
          "2024-01-25T00:00:00",
          "2024-01-26T00:00:00",
          "2024-01-27T00:00:00",
          "2024-01-28T00:00:00",
          "2024-01-29T00:00:00",
          "2024-01-30T00:00:00",
          "2024-01-31T00:00:00",
          "2024-02-01T00:00:00",
          "2024-02-02T00:00:00",
          "2024-02-03T00:00:00",
          "2024-02-04T00:00:00",
          "2024-02-05T00:00:00",
          "2024-02-06T00:00:00",
          "2024-02-07T00:00:00",
          "2024-02-08T00:00:00",
          "2024-02-09T00:00:00",
          "2024-02-10T00:00:00",
          "2024-02-11T00:00:00",
          "2024-02-12T00:00:00",
          "2024-02-13T00:00:00",
          "2024-02-14T00:00:00",
          "2024-02-15T00:00:00",
          "2024-02-16T00:00:00",
          "2024-02-17T00:00:00",
          "2024-02-18T00:00:00",
          "2024-02-19T00:00:00",
          "2024-02-20T00:00:00",
          "2024-02-21T00:00:00",
          "2024-02-22T00:00:00",
          "2024-02-23T00:00:00",
          "2024-02-24T00:00:00",
          "2024-02-25T00:00:00",
          "2024-02-26T00:00:00",
          "2024-02-27T00:00:00",
          "2024-02-28T00:00:00",
          "2024-02-29T00:00:00",
          "2024-03-01T00:00:00",
          "2024-03-02T00:00:00",
          "2024-03-03T00:00:00",
          "2024-03-04T00:00:00",
          "2024-03-05T00:00:00",
          "2024-03-06T00:00:00",
          "2024-03-07T00:00:00",
          "2024-03-08T00:00:00",
          "2024-03-09T00:00:00",
          "2024-03-10T00:00:00",
          "2024-03-11T00:00:00",
          "2024-03-12T00:00:00",
          "2024-03-13T00:00:00",
          "2024-03-14T00:00:00",
          "2024-03-15T00:00:00",
          "2024-03-16T00:00:00",
          "2024-03-17T00:00:00",
          "2024-03-18T00:00:00",
          "2024-03-19T00:00:00",
          "2024-03-20T00:00:00",
          "2024-03-21T00:00:00",
          "2024-03-22T00:00:00",
          "2024-03-23T00:00:00",
          "2024-03-24T00:00:00",
          "2024-03-25T00:00:00",
          "2024-03-26T00:00:00",
          "2024-03-27T00:00:00",
          "2024-03-28T00:00:00",
          "2024-03-29T00:00:00",
          "2024-03-30T00:00:00",
          "2024-03-31T00:00:00",
          "2024-04-01T00:00:00",
          "2024-04-02T00:00:00",
          "2024-04-02T00:00:00",
          "2024-04-02T00:00:00",
          "2024-04-02T00:00:00",
          "2024-04-03T00:00:00",
          "2024-04-04T00:00:00",
          "2024-04-05T00:00:00",
          "2024-04-06T00:00:00",
          "2024-04-07T00:00:00",
          "2024-04-08T00:00:00",
          "2024-04-09T00:00:00",
          "2024-04-10T00:00:00",
          "2024-04-11T00:00:00",
          "2024-04-11T00:00:00",
          "2024-04-11T00:00:00",
          "2024-04-11T00:00:00",
          "2024-04-12T00:00:00",
          "2024-04-13T00:00:00",
          "2024-04-14T00:00:00",
          "2024-04-15T00:00:00",
          "2024-04-16T00:00:00",
          "2024-04-17T00:00:00",
          "2024-04-18T00:00:00",
          "2024-04-19T00:00:00",
          "2024-04-20T00:00:00",
          "2024-04-21T00:00:00",
          "2024-04-22T00:00:00",
          "2024-04-23T00:00:00",
          "2024-04-24T00:00:00",
          "2024-04-25T00:00:00",
          "2024-04-26T00:00:00",
          "2024-04-27T00:00:00",
          "2024-04-28T00:00:00",
          "2024-04-29T00:00:00",
          "2024-04-30T00:00:00",
          "2024-05-01T00:00:00",
          "2024-05-02T00:00:00",
          "2024-05-03T00:00:00",
          "2024-05-04T00:00:00",
          "2024-05-05T00:00:00",
          "2024-05-06T00:00:00",
          "2024-05-07T00:00:00",
          "2024-05-08T00:00:00",
          "2024-05-09T00:00:00",
          "2024-05-10T00:00:00",
          "2024-05-11T00:00:00",
          "2024-05-12T00:00:00",
          "2024-05-13T00:00:00",
          "2024-05-14T00:00:00",
          "2024-05-15T00:00:00",
          "2024-05-16T00:00:00",
          "2024-05-17T00:00:00",
          "2024-05-18T00:00:00",
          "2024-05-19T00:00:00",
          "2024-05-20T00:00:00",
          "2024-05-21T00:00:00",
          "2024-05-22T00:00:00",
          "2024-05-23T00:00:00",
          "2024-05-24T00:00:00",
          "2024-05-25T00:00:00",
          "2024-05-26T00:00:00",
          "2024-05-27T00:00:00",
          "2024-05-28T00:00:00",
          "2024-05-29T00:00:00",
          "2024-05-30T00:00:00",
          "2024-05-31T00:00:00",
          "2024-06-01T00:00:00",
          "2024-06-02T00:00:00",
          "2024-06-03T00:00:00",
          "2024-06-04T00:00:00",
          "2024-06-05T00:00:00",
          "2024-06-06T00:00:00",
          "2024-06-07T00:00:00",
          "2024-06-08T00:00:00",
          "2024-06-09T00:00:00",
          "2024-06-10T00:00:00",
          "2024-06-11T00:00:00",
          "2024-06-12T00:00:00"
         ],
         "y": [
          0,
          0,
          0,
          0,
          0,
          0,
          0,
          0,
          0,
          0,
          0,
          0,
          0,
          0,
          0,
          0,
          0,
          0,
          0,
          0,
          0,
          0,
          0,
          0,
          0,
          0,
          0,
          0,
          0,
          0,
          0,
          0,
          0,
          0,
          0,
          0,
          0,
          0,
          0,
          0,
          0,
          0,
          0,
          0,
          0,
          0,
          0,
          0,
          0,
          0,
          0,
          0,
          0,
          0,
          0,
          0,
          0,
          0,
          0,
          -18094000,
          -18094000,
          -18094000,
          -18094000,
          -18094000,
          -18094000,
          -18094000,
          -18094000,
          -18094000,
          -18094000,
          -18094000,
          -18094000,
          -18094000,
          -18094000,
          -18094000,
          -18094000,
          -18094000,
          -18094000,
          -18094000,
          -18094000,
          -18094000,
          -18094000,
          -18094000,
          -18094000,
          -18094000,
          -18094000,
          -18094000,
          -18094000,
          -18094000,
          -18094000,
          -18094000,
          -18094000,
          -34958085.489999995,
          -44202867.60999999,
          -60569462.05,
          -60597396.55,
          -69841631.35,
          -69841631.35,
          -69841631.35,
          -69841631.35,
          -69841631.35,
          -69841631.35,
          -69841631.35,
          -69841631.35,
          -69841631.35,
          -80030510.99,
          -82230023.99,
          -87035735.99,
          -89292443.86999999,
          -89292443.86999999,
          -89292443.86999999,
          -89292443.86999999,
          -89292443.86999999,
          -89292443.86999999,
          -89292443.86999999,
          -89292443.86999999,
          -89292443.86999999,
          -89292443.86999999,
          -89292443.86999999,
          -89292443.86999999,
          -89292443.86999999,
          -89292443.86999999,
          -89292443.86999999,
          -89292443.86999999,
          -89292443.86999999,
          -89292443.86999999,
          -89292443.86999999,
          -89292443.86999999,
          -89292443.86999999,
          -89292443.86999999,
          -89292443.86999999,
          -89292443.86999999,
          -89292443.86999999,
          -89292443.86999999,
          -89292443.86999999,
          -89292443.86999999,
          -89292443.86999999,
          -89292443.86999999,
          -89292443.86999999,
          -89292443.86999999,
          -89292443.86999999,
          -89292443.86999999,
          -90244228.475,
          -90244228.475,
          -90244228.475,
          -90244228.475,
          -90244228.475,
          -90244228.475,
          -90244228.475,
          -90244228.475,
          -90244228.475,
          -90244228.475,
          -90244228.475,
          -90244228.475,
          -90244228.475,
          -90244228.475,
          -90244228.475,
          -104612728.475,
          -104612728.475,
          -104612728.475,
          -104612728.475,
          -104612728.475,
          -104612728.475,
          -104612728.475,
          -104612728.475,
          -104612728.475,
          -104612728.475,
          -104612728.475,
          -104612728.475,
          -104612728.475,
          -104612728.475
         ]
        },
        {
         "line": {
          "color": "Green"
         },
         "mode": "lines",
         "name": "Total Buys",
         "showlegend": true,
         "type": "scatter",
         "x": [
          "2024-01-01T00:00:00",
          "2024-01-02T00:00:00",
          "2024-01-03T00:00:00",
          "2024-01-04T00:00:00",
          "2024-01-05T00:00:00",
          "2024-01-06T00:00:00",
          "2024-01-07T00:00:00",
          "2024-01-08T00:00:00",
          "2024-01-09T00:00:00",
          "2024-01-10T00:00:00",
          "2024-01-11T00:00:00",
          "2024-01-12T00:00:00",
          "2024-01-13T00:00:00",
          "2024-01-14T00:00:00",
          "2024-01-15T00:00:00",
          "2024-01-16T00:00:00",
          "2024-01-17T00:00:00",
          "2024-01-18T00:00:00",
          "2024-01-19T00:00:00",
          "2024-01-20T00:00:00",
          "2024-01-21T00:00:00",
          "2024-01-22T00:00:00",
          "2024-01-23T00:00:00",
          "2024-01-24T00:00:00",
          "2024-01-25T00:00:00",
          "2024-01-26T00:00:00",
          "2024-01-27T00:00:00",
          "2024-01-28T00:00:00",
          "2024-01-29T00:00:00",
          "2024-01-30T00:00:00",
          "2024-01-31T00:00:00",
          "2024-02-01T00:00:00",
          "2024-02-02T00:00:00",
          "2024-02-03T00:00:00",
          "2024-02-04T00:00:00",
          "2024-02-05T00:00:00",
          "2024-02-06T00:00:00",
          "2024-02-07T00:00:00",
          "2024-02-08T00:00:00",
          "2024-02-09T00:00:00",
          "2024-02-10T00:00:00",
          "2024-02-11T00:00:00",
          "2024-02-12T00:00:00",
          "2024-02-13T00:00:00",
          "2024-02-14T00:00:00",
          "2024-02-15T00:00:00",
          "2024-02-16T00:00:00",
          "2024-02-17T00:00:00",
          "2024-02-18T00:00:00",
          "2024-02-19T00:00:00",
          "2024-02-20T00:00:00",
          "2024-02-21T00:00:00",
          "2024-02-22T00:00:00",
          "2024-02-23T00:00:00",
          "2024-02-24T00:00:00",
          "2024-02-25T00:00:00",
          "2024-02-26T00:00:00",
          "2024-02-27T00:00:00",
          "2024-02-28T00:00:00",
          "2024-02-29T00:00:00",
          "2024-03-01T00:00:00",
          "2024-03-02T00:00:00",
          "2024-03-03T00:00:00",
          "2024-03-04T00:00:00",
          "2024-03-05T00:00:00",
          "2024-03-06T00:00:00",
          "2024-03-07T00:00:00",
          "2024-03-08T00:00:00",
          "2024-03-09T00:00:00",
          "2024-03-10T00:00:00",
          "2024-03-11T00:00:00",
          "2024-03-12T00:00:00",
          "2024-03-13T00:00:00",
          "2024-03-14T00:00:00",
          "2024-03-15T00:00:00",
          "2024-03-16T00:00:00",
          "2024-03-17T00:00:00",
          "2024-03-18T00:00:00",
          "2024-03-19T00:00:00",
          "2024-03-20T00:00:00",
          "2024-03-21T00:00:00",
          "2024-03-22T00:00:00",
          "2024-03-23T00:00:00",
          "2024-03-24T00:00:00",
          "2024-03-25T00:00:00",
          "2024-03-26T00:00:00",
          "2024-03-27T00:00:00",
          "2024-03-28T00:00:00",
          "2024-03-29T00:00:00",
          "2024-03-30T00:00:00",
          "2024-03-31T00:00:00",
          "2024-04-01T00:00:00",
          "2024-04-02T00:00:00",
          "2024-04-02T00:00:00",
          "2024-04-02T00:00:00",
          "2024-04-02T00:00:00",
          "2024-04-03T00:00:00",
          "2024-04-04T00:00:00",
          "2024-04-05T00:00:00",
          "2024-04-06T00:00:00",
          "2024-04-07T00:00:00",
          "2024-04-08T00:00:00",
          "2024-04-09T00:00:00",
          "2024-04-10T00:00:00",
          "2024-04-11T00:00:00",
          "2024-04-11T00:00:00",
          "2024-04-11T00:00:00",
          "2024-04-11T00:00:00",
          "2024-04-12T00:00:00",
          "2024-04-13T00:00:00",
          "2024-04-14T00:00:00",
          "2024-04-15T00:00:00",
          "2024-04-16T00:00:00",
          "2024-04-17T00:00:00",
          "2024-04-18T00:00:00",
          "2024-04-19T00:00:00",
          "2024-04-20T00:00:00",
          "2024-04-21T00:00:00",
          "2024-04-22T00:00:00",
          "2024-04-23T00:00:00",
          "2024-04-24T00:00:00",
          "2024-04-25T00:00:00",
          "2024-04-26T00:00:00",
          "2024-04-27T00:00:00",
          "2024-04-28T00:00:00",
          "2024-04-29T00:00:00",
          "2024-04-30T00:00:00",
          "2024-05-01T00:00:00",
          "2024-05-02T00:00:00",
          "2024-05-03T00:00:00",
          "2024-05-04T00:00:00",
          "2024-05-05T00:00:00",
          "2024-05-06T00:00:00",
          "2024-05-07T00:00:00",
          "2024-05-08T00:00:00",
          "2024-05-09T00:00:00",
          "2024-05-10T00:00:00",
          "2024-05-11T00:00:00",
          "2024-05-12T00:00:00",
          "2024-05-13T00:00:00",
          "2024-05-14T00:00:00",
          "2024-05-15T00:00:00",
          "2024-05-16T00:00:00",
          "2024-05-17T00:00:00",
          "2024-05-18T00:00:00",
          "2024-05-19T00:00:00",
          "2024-05-20T00:00:00",
          "2024-05-21T00:00:00",
          "2024-05-22T00:00:00",
          "2024-05-23T00:00:00",
          "2024-05-24T00:00:00",
          "2024-05-25T00:00:00",
          "2024-05-26T00:00:00",
          "2024-05-27T00:00:00",
          "2024-05-28T00:00:00",
          "2024-05-29T00:00:00",
          "2024-05-30T00:00:00",
          "2024-05-31T00:00:00",
          "2024-06-01T00:00:00",
          "2024-06-02T00:00:00",
          "2024-06-03T00:00:00",
          "2024-06-04T00:00:00",
          "2024-06-05T00:00:00",
          "2024-06-06T00:00:00",
          "2024-06-07T00:00:00",
          "2024-06-08T00:00:00",
          "2024-06-09T00:00:00",
          "2024-06-10T00:00:00",
          "2024-06-11T00:00:00",
          "2024-06-12T00:00:00"
         ],
         "y": [
          0,
          0,
          0,
          0,
          0,
          0,
          0,
          0,
          0,
          0,
          0,
          0,
          0,
          0,
          0,
          0,
          0,
          0,
          0,
          0,
          0,
          0,
          0,
          0,
          0,
          0,
          0,
          0,
          0,
          0,
          0,
          0,
          0,
          0,
          0,
          0,
          0,
          0,
          0,
          0,
          0,
          0,
          0,
          0,
          0,
          0,
          0,
          0,
          0,
          0,
          0,
          0,
          0,
          0,
          0,
          0,
          0,
          0,
          0,
          0,
          0,
          0,
          0,
          0,
          0,
          0,
          0,
          0,
          0,
          0,
          0,
          0,
          0,
          0,
          0,
          0,
          0,
          0,
          0,
          0,
          0,
          0,
          0,
          0,
          0,
          0,
          0,
          0,
          0,
          0,
          0,
          0,
          0,
          0,
          0,
          0,
          0,
          0,
          0,
          0,
          0,
          0,
          0,
          0,
          0,
          0,
          0,
          0,
          0,
          0,
          0,
          0,
          0,
          0,
          0,
          0,
          0,
          0,
          0,
          0,
          0,
          0,
          0,
          0,
          0,
          0,
          0,
          0,
          0,
          0,
          0,
          0,
          0,
          0,
          0,
          0,
          0,
          0,
          0,
          0,
          0,
          0,
          0,
          0,
          0,
          0,
          0,
          0,
          0,
          0,
          0,
          0,
          0,
          0,
          0,
          0,
          0,
          0,
          0,
          0,
          0,
          0,
          0,
          0,
          0,
          0,
          0,
          0,
          0,
          0
         ]
        },
        {
         "line": {
          "color": "Red"
         },
         "mode": "lines",
         "name": "Total Sells",
         "showlegend": true,
         "type": "scatter",
         "x": [
          "2024-01-01T00:00:00",
          "2024-01-02T00:00:00",
          "2024-01-03T00:00:00",
          "2024-01-04T00:00:00",
          "2024-01-05T00:00:00",
          "2024-01-06T00:00:00",
          "2024-01-07T00:00:00",
          "2024-01-08T00:00:00",
          "2024-01-09T00:00:00",
          "2024-01-10T00:00:00",
          "2024-01-11T00:00:00",
          "2024-01-12T00:00:00",
          "2024-01-13T00:00:00",
          "2024-01-14T00:00:00",
          "2024-01-15T00:00:00",
          "2024-01-16T00:00:00",
          "2024-01-17T00:00:00",
          "2024-01-18T00:00:00",
          "2024-01-19T00:00:00",
          "2024-01-20T00:00:00",
          "2024-01-21T00:00:00",
          "2024-01-22T00:00:00",
          "2024-01-23T00:00:00",
          "2024-01-24T00:00:00",
          "2024-01-25T00:00:00",
          "2024-01-26T00:00:00",
          "2024-01-27T00:00:00",
          "2024-01-28T00:00:00",
          "2024-01-29T00:00:00",
          "2024-01-30T00:00:00",
          "2024-01-31T00:00:00",
          "2024-02-01T00:00:00",
          "2024-02-02T00:00:00",
          "2024-02-03T00:00:00",
          "2024-02-04T00:00:00",
          "2024-02-05T00:00:00",
          "2024-02-06T00:00:00",
          "2024-02-07T00:00:00",
          "2024-02-08T00:00:00",
          "2024-02-09T00:00:00",
          "2024-02-10T00:00:00",
          "2024-02-11T00:00:00",
          "2024-02-12T00:00:00",
          "2024-02-13T00:00:00",
          "2024-02-14T00:00:00",
          "2024-02-15T00:00:00",
          "2024-02-16T00:00:00",
          "2024-02-17T00:00:00",
          "2024-02-18T00:00:00",
          "2024-02-19T00:00:00",
          "2024-02-20T00:00:00",
          "2024-02-21T00:00:00",
          "2024-02-22T00:00:00",
          "2024-02-23T00:00:00",
          "2024-02-24T00:00:00",
          "2024-02-25T00:00:00",
          "2024-02-26T00:00:00",
          "2024-02-27T00:00:00",
          "2024-02-28T00:00:00",
          "2024-02-29T00:00:00",
          "2024-03-01T00:00:00",
          "2024-03-02T00:00:00",
          "2024-03-03T00:00:00",
          "2024-03-04T00:00:00",
          "2024-03-05T00:00:00",
          "2024-03-06T00:00:00",
          "2024-03-07T00:00:00",
          "2024-03-08T00:00:00",
          "2024-03-09T00:00:00",
          "2024-03-10T00:00:00",
          "2024-03-11T00:00:00",
          "2024-03-12T00:00:00",
          "2024-03-13T00:00:00",
          "2024-03-14T00:00:00",
          "2024-03-15T00:00:00",
          "2024-03-16T00:00:00",
          "2024-03-17T00:00:00",
          "2024-03-18T00:00:00",
          "2024-03-19T00:00:00",
          "2024-03-20T00:00:00",
          "2024-03-21T00:00:00",
          "2024-03-22T00:00:00",
          "2024-03-23T00:00:00",
          "2024-03-24T00:00:00",
          "2024-03-25T00:00:00",
          "2024-03-26T00:00:00",
          "2024-03-27T00:00:00",
          "2024-03-28T00:00:00",
          "2024-03-29T00:00:00",
          "2024-03-30T00:00:00",
          "2024-03-31T00:00:00",
          "2024-04-01T00:00:00",
          "2024-04-02T00:00:00",
          "2024-04-02T00:00:00",
          "2024-04-02T00:00:00",
          "2024-04-02T00:00:00",
          "2024-04-03T00:00:00",
          "2024-04-04T00:00:00",
          "2024-04-05T00:00:00",
          "2024-04-06T00:00:00",
          "2024-04-07T00:00:00",
          "2024-04-08T00:00:00",
          "2024-04-09T00:00:00",
          "2024-04-10T00:00:00",
          "2024-04-11T00:00:00",
          "2024-04-11T00:00:00",
          "2024-04-11T00:00:00",
          "2024-04-11T00:00:00",
          "2024-04-12T00:00:00",
          "2024-04-13T00:00:00",
          "2024-04-14T00:00:00",
          "2024-04-15T00:00:00",
          "2024-04-16T00:00:00",
          "2024-04-17T00:00:00",
          "2024-04-18T00:00:00",
          "2024-04-19T00:00:00",
          "2024-04-20T00:00:00",
          "2024-04-21T00:00:00",
          "2024-04-22T00:00:00",
          "2024-04-23T00:00:00",
          "2024-04-24T00:00:00",
          "2024-04-25T00:00:00",
          "2024-04-26T00:00:00",
          "2024-04-27T00:00:00",
          "2024-04-28T00:00:00",
          "2024-04-29T00:00:00",
          "2024-04-30T00:00:00",
          "2024-05-01T00:00:00",
          "2024-05-02T00:00:00",
          "2024-05-03T00:00:00",
          "2024-05-04T00:00:00",
          "2024-05-05T00:00:00",
          "2024-05-06T00:00:00",
          "2024-05-07T00:00:00",
          "2024-05-08T00:00:00",
          "2024-05-09T00:00:00",
          "2024-05-10T00:00:00",
          "2024-05-11T00:00:00",
          "2024-05-12T00:00:00",
          "2024-05-13T00:00:00",
          "2024-05-14T00:00:00",
          "2024-05-15T00:00:00",
          "2024-05-16T00:00:00",
          "2024-05-17T00:00:00",
          "2024-05-18T00:00:00",
          "2024-05-19T00:00:00",
          "2024-05-20T00:00:00",
          "2024-05-21T00:00:00",
          "2024-05-22T00:00:00",
          "2024-05-23T00:00:00",
          "2024-05-24T00:00:00",
          "2024-05-25T00:00:00",
          "2024-05-26T00:00:00",
          "2024-05-27T00:00:00",
          "2024-05-28T00:00:00",
          "2024-05-29T00:00:00",
          "2024-05-30T00:00:00",
          "2024-05-31T00:00:00",
          "2024-06-01T00:00:00",
          "2024-06-02T00:00:00",
          "2024-06-03T00:00:00",
          "2024-06-04T00:00:00",
          "2024-06-05T00:00:00",
          "2024-06-06T00:00:00",
          "2024-06-07T00:00:00",
          "2024-06-08T00:00:00",
          "2024-06-09T00:00:00",
          "2024-06-10T00:00:00",
          "2024-06-11T00:00:00",
          "2024-06-12T00:00:00"
         ],
         "y": [
          0,
          0,
          0,
          0,
          0,
          0,
          0,
          0,
          0,
          0,
          0,
          0,
          0,
          0,
          0,
          0,
          0,
          0,
          0,
          0,
          0,
          0,
          0,
          0,
          0,
          0,
          0,
          0,
          0,
          0,
          0,
          0,
          0,
          0,
          0,
          0,
          0,
          0,
          0,
          0,
          0,
          0,
          0,
          0,
          0,
          0,
          0,
          0,
          0,
          0,
          0,
          0,
          0,
          0,
          0,
          0,
          0,
          0,
          0,
          -18094000,
          -18094000,
          -18094000,
          -18094000,
          -18094000,
          -18094000,
          -18094000,
          -18094000,
          -18094000,
          -18094000,
          -18094000,
          -18094000,
          -18094000,
          -18094000,
          -18094000,
          -18094000,
          -18094000,
          -18094000,
          -18094000,
          -18094000,
          -18094000,
          -18094000,
          -18094000,
          -18094000,
          -18094000,
          -18094000,
          -18094000,
          -18094000,
          -18094000,
          -18094000,
          -18094000,
          -18094000,
          -34958085.489999995,
          -44202867.60999999,
          -60569462.05,
          -60597396.55,
          -69841631.35,
          -69841631.35,
          -69841631.35,
          -69841631.35,
          -69841631.35,
          -69841631.35,
          -69841631.35,
          -69841631.35,
          -69841631.35,
          -80030510.99,
          -82230023.99,
          -87035735.99,
          -89292443.86999999,
          -89292443.86999999,
          -89292443.86999999,
          -89292443.86999999,
          -89292443.86999999,
          -89292443.86999999,
          -89292443.86999999,
          -89292443.86999999,
          -89292443.86999999,
          -89292443.86999999,
          -89292443.86999999,
          -89292443.86999999,
          -89292443.86999999,
          -89292443.86999999,
          -89292443.86999999,
          -89292443.86999999,
          -89292443.86999999,
          -89292443.86999999,
          -89292443.86999999,
          -89292443.86999999,
          -89292443.86999999,
          -89292443.86999999,
          -89292443.86999999,
          -89292443.86999999,
          -89292443.86999999,
          -89292443.86999999,
          -89292443.86999999,
          -89292443.86999999,
          -89292443.86999999,
          -89292443.86999999,
          -89292443.86999999,
          -89292443.86999999,
          -89292443.86999999,
          -89292443.86999999,
          -90244228.475,
          -90244228.475,
          -90244228.475,
          -90244228.475,
          -90244228.475,
          -90244228.475,
          -90244228.475,
          -90244228.475,
          -90244228.475,
          -90244228.475,
          -90244228.475,
          -90244228.475,
          -90244228.475,
          -90244228.475,
          -90244228.475,
          -104612728.475,
          -104612728.475,
          -104612728.475,
          -104612728.475,
          -104612728.475,
          -104612728.475,
          -104612728.475,
          -104612728.475,
          -104612728.475,
          -104612728.475,
          -104612728.475,
          -104612728.475,
          -104612728.475,
          -104612728.475
         ]
        }
       ],
       "layout": {
        "template": {
         "data": {
          "bar": [
           {
            "error_x": {
             "color": "#f2f5fa"
            },
            "error_y": {
             "color": "#f2f5fa"
            },
            "marker": {
             "line": {
              "color": "rgb(17,17,17)",
              "width": 0.5
             },
             "pattern": {
              "fillmode": "overlay",
              "size": 10,
              "solidity": 0.2
             }
            },
            "type": "bar"
           }
          ],
          "barpolar": [
           {
            "marker": {
             "line": {
              "color": "rgb(17,17,17)",
              "width": 0.5
             },
             "pattern": {
              "fillmode": "overlay",
              "size": 10,
              "solidity": 0.2
             }
            },
            "type": "barpolar"
           }
          ],
          "carpet": [
           {
            "aaxis": {
             "endlinecolor": "#A2B1C6",
             "gridcolor": "#506784",
             "linecolor": "#506784",
             "minorgridcolor": "#506784",
             "startlinecolor": "#A2B1C6"
            },
            "baxis": {
             "endlinecolor": "#A2B1C6",
             "gridcolor": "#506784",
             "linecolor": "#506784",
             "minorgridcolor": "#506784",
             "startlinecolor": "#A2B1C6"
            },
            "type": "carpet"
           }
          ],
          "choropleth": [
           {
            "colorbar": {
             "outlinewidth": 0,
             "ticks": ""
            },
            "type": "choropleth"
           }
          ],
          "contour": [
           {
            "colorbar": {
             "outlinewidth": 0,
             "ticks": ""
            },
            "colorscale": [
             [
              0,
              "#0d0887"
             ],
             [
              0.1111111111111111,
              "#46039f"
             ],
             [
              0.2222222222222222,
              "#7201a8"
             ],
             [
              0.3333333333333333,
              "#9c179e"
             ],
             [
              0.4444444444444444,
              "#bd3786"
             ],
             [
              0.5555555555555556,
              "#d8576b"
             ],
             [
              0.6666666666666666,
              "#ed7953"
             ],
             [
              0.7777777777777778,
              "#fb9f3a"
             ],
             [
              0.8888888888888888,
              "#fdca26"
             ],
             [
              1,
              "#f0f921"
             ]
            ],
            "type": "contour"
           }
          ],
          "contourcarpet": [
           {
            "colorbar": {
             "outlinewidth": 0,
             "ticks": ""
            },
            "type": "contourcarpet"
           }
          ],
          "heatmap": [
           {
            "colorbar": {
             "outlinewidth": 0,
             "ticks": ""
            },
            "colorscale": [
             [
              0,
              "#0d0887"
             ],
             [
              0.1111111111111111,
              "#46039f"
             ],
             [
              0.2222222222222222,
              "#7201a8"
             ],
             [
              0.3333333333333333,
              "#9c179e"
             ],
             [
              0.4444444444444444,
              "#bd3786"
             ],
             [
              0.5555555555555556,
              "#d8576b"
             ],
             [
              0.6666666666666666,
              "#ed7953"
             ],
             [
              0.7777777777777778,
              "#fb9f3a"
             ],
             [
              0.8888888888888888,
              "#fdca26"
             ],
             [
              1,
              "#f0f921"
             ]
            ],
            "type": "heatmap"
           }
          ],
          "heatmapgl": [
           {
            "colorbar": {
             "outlinewidth": 0,
             "ticks": ""
            },
            "colorscale": [
             [
              0,
              "#0d0887"
             ],
             [
              0.1111111111111111,
              "#46039f"
             ],
             [
              0.2222222222222222,
              "#7201a8"
             ],
             [
              0.3333333333333333,
              "#9c179e"
             ],
             [
              0.4444444444444444,
              "#bd3786"
             ],
             [
              0.5555555555555556,
              "#d8576b"
             ],
             [
              0.6666666666666666,
              "#ed7953"
             ],
             [
              0.7777777777777778,
              "#fb9f3a"
             ],
             [
              0.8888888888888888,
              "#fdca26"
             ],
             [
              1,
              "#f0f921"
             ]
            ],
            "type": "heatmapgl"
           }
          ],
          "histogram": [
           {
            "marker": {
             "pattern": {
              "fillmode": "overlay",
              "size": 10,
              "solidity": 0.2
             }
            },
            "type": "histogram"
           }
          ],
          "histogram2d": [
           {
            "colorbar": {
             "outlinewidth": 0,
             "ticks": ""
            },
            "colorscale": [
             [
              0,
              "#0d0887"
             ],
             [
              0.1111111111111111,
              "#46039f"
             ],
             [
              0.2222222222222222,
              "#7201a8"
             ],
             [
              0.3333333333333333,
              "#9c179e"
             ],
             [
              0.4444444444444444,
              "#bd3786"
             ],
             [
              0.5555555555555556,
              "#d8576b"
             ],
             [
              0.6666666666666666,
              "#ed7953"
             ],
             [
              0.7777777777777778,
              "#fb9f3a"
             ],
             [
              0.8888888888888888,
              "#fdca26"
             ],
             [
              1,
              "#f0f921"
             ]
            ],
            "type": "histogram2d"
           }
          ],
          "histogram2dcontour": [
           {
            "colorbar": {
             "outlinewidth": 0,
             "ticks": ""
            },
            "colorscale": [
             [
              0,
              "#0d0887"
             ],
             [
              0.1111111111111111,
              "#46039f"
             ],
             [
              0.2222222222222222,
              "#7201a8"
             ],
             [
              0.3333333333333333,
              "#9c179e"
             ],
             [
              0.4444444444444444,
              "#bd3786"
             ],
             [
              0.5555555555555556,
              "#d8576b"
             ],
             [
              0.6666666666666666,
              "#ed7953"
             ],
             [
              0.7777777777777778,
              "#fb9f3a"
             ],
             [
              0.8888888888888888,
              "#fdca26"
             ],
             [
              1,
              "#f0f921"
             ]
            ],
            "type": "histogram2dcontour"
           }
          ],
          "mesh3d": [
           {
            "colorbar": {
             "outlinewidth": 0,
             "ticks": ""
            },
            "type": "mesh3d"
           }
          ],
          "parcoords": [
           {
            "line": {
             "colorbar": {
              "outlinewidth": 0,
              "ticks": ""
             }
            },
            "type": "parcoords"
           }
          ],
          "pie": [
           {
            "automargin": true,
            "type": "pie"
           }
          ],
          "scatter": [
           {
            "marker": {
             "line": {
              "color": "#283442"
             }
            },
            "type": "scatter"
           }
          ],
          "scatter3d": [
           {
            "line": {
             "colorbar": {
              "outlinewidth": 0,
              "ticks": ""
             }
            },
            "marker": {
             "colorbar": {
              "outlinewidth": 0,
              "ticks": ""
             }
            },
            "type": "scatter3d"
           }
          ],
          "scattercarpet": [
           {
            "marker": {
             "colorbar": {
              "outlinewidth": 0,
              "ticks": ""
             }
            },
            "type": "scattercarpet"
           }
          ],
          "scattergeo": [
           {
            "marker": {
             "colorbar": {
              "outlinewidth": 0,
              "ticks": ""
             }
            },
            "type": "scattergeo"
           }
          ],
          "scattergl": [
           {
            "marker": {
             "line": {
              "color": "#283442"
             }
            },
            "type": "scattergl"
           }
          ],
          "scattermapbox": [
           {
            "marker": {
             "colorbar": {
              "outlinewidth": 0,
              "ticks": ""
             }
            },
            "type": "scattermapbox"
           }
          ],
          "scatterpolar": [
           {
            "marker": {
             "colorbar": {
              "outlinewidth": 0,
              "ticks": ""
             }
            },
            "type": "scatterpolar"
           }
          ],
          "scatterpolargl": [
           {
            "marker": {
             "colorbar": {
              "outlinewidth": 0,
              "ticks": ""
             }
            },
            "type": "scatterpolargl"
           }
          ],
          "scatterternary": [
           {
            "marker": {
             "colorbar": {
              "outlinewidth": 0,
              "ticks": ""
             }
            },
            "type": "scatterternary"
           }
          ],
          "surface": [
           {
            "colorbar": {
             "outlinewidth": 0,
             "ticks": ""
            },
            "colorscale": [
             [
              0,
              "#0d0887"
             ],
             [
              0.1111111111111111,
              "#46039f"
             ],
             [
              0.2222222222222222,
              "#7201a8"
             ],
             [
              0.3333333333333333,
              "#9c179e"
             ],
             [
              0.4444444444444444,
              "#bd3786"
             ],
             [
              0.5555555555555556,
              "#d8576b"
             ],
             [
              0.6666666666666666,
              "#ed7953"
             ],
             [
              0.7777777777777778,
              "#fb9f3a"
             ],
             [
              0.8888888888888888,
              "#fdca26"
             ],
             [
              1,
              "#f0f921"
             ]
            ],
            "type": "surface"
           }
          ],
          "table": [
           {
            "cells": {
             "fill": {
              "color": "#506784"
             },
             "line": {
              "color": "rgb(17,17,17)"
             }
            },
            "header": {
             "fill": {
              "color": "#2a3f5f"
             },
             "line": {
              "color": "rgb(17,17,17)"
             }
            },
            "type": "table"
           }
          ]
         },
         "layout": {
          "annotationdefaults": {
           "arrowcolor": "#f2f5fa",
           "arrowhead": 0,
           "arrowwidth": 1
          },
          "autotypenumbers": "strict",
          "coloraxis": {
           "colorbar": {
            "outlinewidth": 0,
            "ticks": ""
           }
          },
          "colorscale": {
           "diverging": [
            [
             0,
             "#8e0152"
            ],
            [
             0.1,
             "#c51b7d"
            ],
            [
             0.2,
             "#de77ae"
            ],
            [
             0.3,
             "#f1b6da"
            ],
            [
             0.4,
             "#fde0ef"
            ],
            [
             0.5,
             "#f7f7f7"
            ],
            [
             0.6,
             "#e6f5d0"
            ],
            [
             0.7,
             "#b8e186"
            ],
            [
             0.8,
             "#7fbc41"
            ],
            [
             0.9,
             "#4d9221"
            ],
            [
             1,
             "#276419"
            ]
           ],
           "sequential": [
            [
             0,
             "#0d0887"
            ],
            [
             0.1111111111111111,
             "#46039f"
            ],
            [
             0.2222222222222222,
             "#7201a8"
            ],
            [
             0.3333333333333333,
             "#9c179e"
            ],
            [
             0.4444444444444444,
             "#bd3786"
            ],
            [
             0.5555555555555556,
             "#d8576b"
            ],
            [
             0.6666666666666666,
             "#ed7953"
            ],
            [
             0.7777777777777778,
             "#fb9f3a"
            ],
            [
             0.8888888888888888,
             "#fdca26"
            ],
            [
             1,
             "#f0f921"
            ]
           ],
           "sequentialminus": [
            [
             0,
             "#0d0887"
            ],
            [
             0.1111111111111111,
             "#46039f"
            ],
            [
             0.2222222222222222,
             "#7201a8"
            ],
            [
             0.3333333333333333,
             "#9c179e"
            ],
            [
             0.4444444444444444,
             "#bd3786"
            ],
            [
             0.5555555555555556,
             "#d8576b"
            ],
            [
             0.6666666666666666,
             "#ed7953"
            ],
            [
             0.7777777777777778,
             "#fb9f3a"
            ],
            [
             0.8888888888888888,
             "#fdca26"
            ],
            [
             1,
             "#f0f921"
            ]
           ]
          },
          "colorway": [
           "#636efa",
           "#EF553B",
           "#00cc96",
           "#ab63fa",
           "#FFA15A",
           "#19d3f3",
           "#FF6692",
           "#B6E880",
           "#FF97FF",
           "#FECB52"
          ],
          "font": {
           "color": "#f2f5fa"
          },
          "geo": {
           "bgcolor": "rgb(17,17,17)",
           "lakecolor": "rgb(17,17,17)",
           "landcolor": "rgb(17,17,17)",
           "showlakes": true,
           "showland": true,
           "subunitcolor": "#506784"
          },
          "hoverlabel": {
           "align": "left"
          },
          "hovermode": "closest",
          "mapbox": {
           "style": "dark"
          },
          "paper_bgcolor": "rgb(17,17,17)",
          "plot_bgcolor": "rgb(17,17,17)",
          "polar": {
           "angularaxis": {
            "gridcolor": "#506784",
            "linecolor": "#506784",
            "ticks": ""
           },
           "bgcolor": "rgb(17,17,17)",
           "radialaxis": {
            "gridcolor": "#506784",
            "linecolor": "#506784",
            "ticks": ""
           }
          },
          "scene": {
           "xaxis": {
            "backgroundcolor": "rgb(17,17,17)",
            "gridcolor": "#506784",
            "gridwidth": 2,
            "linecolor": "#506784",
            "showbackground": true,
            "ticks": "",
            "zerolinecolor": "#C8D4E3"
           },
           "yaxis": {
            "backgroundcolor": "rgb(17,17,17)",
            "gridcolor": "#506784",
            "gridwidth": 2,
            "linecolor": "#506784",
            "showbackground": true,
            "ticks": "",
            "zerolinecolor": "#C8D4E3"
           },
           "zaxis": {
            "backgroundcolor": "rgb(17,17,17)",
            "gridcolor": "#506784",
            "gridwidth": 2,
            "linecolor": "#506784",
            "showbackground": true,
            "ticks": "",
            "zerolinecolor": "#C8D4E3"
           }
          },
          "shapedefaults": {
           "line": {
            "color": "#f2f5fa"
           }
          },
          "sliderdefaults": {
           "bgcolor": "#C8D4E3",
           "bordercolor": "rgb(17,17,17)",
           "borderwidth": 1,
           "tickwidth": 0
          },
          "ternary": {
           "aaxis": {
            "gridcolor": "#506784",
            "linecolor": "#506784",
            "ticks": ""
           },
           "baxis": {
            "gridcolor": "#506784",
            "linecolor": "#506784",
            "ticks": ""
           },
           "bgcolor": "rgb(17,17,17)",
           "caxis": {
            "gridcolor": "#506784",
            "linecolor": "#506784",
            "ticks": ""
           }
          },
          "title": {
           "x": 0.05
          },
          "updatemenudefaults": {
           "bgcolor": "#506784",
           "borderwidth": 0
          },
          "xaxis": {
           "automargin": true,
           "gridcolor": "#283442",
           "linecolor": "#506784",
           "ticks": "",
           "title": {
            "standoff": 15
           },
           "zerolinecolor": "#283442",
           "zerolinewidth": 2
          },
          "yaxis": {
           "automargin": true,
           "gridcolor": "#283442",
           "linecolor": "#506784",
           "ticks": "",
           "title": {
            "standoff": 15
           },
           "zerolinecolor": "#283442",
           "zerolinewidth": 2
          }
         }
        },
        "title": {
         "text": "AAPL Insider Transactions",
         "x": 0.5
        },
        "xaxis": {
         "title": {
          "text": "Date"
         }
        },
        "yaxis": {
         "title": {
          "text": "Value Traded"
         }
        }
       }
      }
     },
     "metadata": {},
     "output_type": "display_data"
    }
   ],
   "source": [
    "fig = go.Figure()\n",
    "tracenet = go.Scatter(x=dailydata['Transaction Date'], y=dailydata['Net Total'].values, mode='lines', name='Net Total', line=dict(color='Blue'), showlegend=True)\n",
    "tracebuys = go.Scatter(x=dailydata['Transaction Date'], y=dailydata['Total Buys'].values, mode='lines', name='Total Buys', line=dict(color='Green'), showlegend=True)\n",
    "tracesells = go.Scatter(x=dailydata['Transaction Date'], y=dailydata['Total Sells'].values, mode='lines', name='Total Sells', line=dict(color='Red'), showlegend=True)\n",
    "\n",
    "fig.add_trace(tracenet)\n",
    "fig.add_trace(tracebuys)\n",
    "fig.add_trace(tracesells)\n",
    "\n",
    "fig.update_layout(\n",
    "    title= ticker +' Insider Transactions',\n",
    "    xaxis_title='Date',\n",
    "    yaxis_title='Value Traded',\n",
    "    template='plotly_dark',\n",
    "    title_x=0.5,\n",
    ")\n",
    "\n",
    "fig.show()"
   ]
  },
  {
   "cell_type": "code",
   "execution_count": null,
   "metadata": {},
   "outputs": [],
   "source": []
  },
  {
   "cell_type": "code",
   "execution_count": null,
   "metadata": {},
   "outputs": [],
   "source": []
  }
 ],
 "metadata": {
  "kernelspec": {
   "display_name": "base",
   "language": "python",
   "name": "python3"
  },
  "language_info": {
   "codemirror_mode": {
    "name": "ipython",
    "version": 3
   },
   "file_extension": ".py",
   "mimetype": "text/x-python",
   "name": "python",
   "nbconvert_exporter": "python",
   "pygments_lexer": "ipython3",
   "version": "3.11.4"
  }
 },
 "nbformat": 4,
 "nbformat_minor": 2
}
